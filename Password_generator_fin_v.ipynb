{
 "cells": [
  {
   "cell_type": "code",
   "execution_count": 5,
   "id": "4d3a0d47",
   "metadata": {},
   "outputs": [
    {
     "name": "stdout",
     "output_type": "stream",
     "text": [
      "Enter the number of passwords to generate: 10\n",
      "Enter the length for the password: 16\n",
      "Include digits 0123456789? (y = yes, n = no):y\n",
      "Include uppercase letters ABCDEFGHIJKLMNOPQRSTUVWXYZ? (y = yes, n = no): y\n",
      "Include lowercase letters abcdefghijklmnopqrstuvwxyz? (y = yes, n = no): y\n",
      "Include symbols !#$%&*+-=?@^_.? (y = yes, n = no): y\n",
      "Exclude ambiguous characters il1Lo0O? (y = yes, n = no): y\n",
      "This is your password №1!: jXdIw?!UQHYqbPtv\n",
      "This is your password №2!: t&*E%x+#HTnm$Yf.\n",
      "This is your password №3!: bB*3#?qSI!v+MvU9\n",
      "This is your password №4!: 8D$YqS=uXe9v-*?G\n",
      "This is your password №5!: vHr5yDSVk+6wTeg5\n",
      "This is your password №6!: X6VY5&Jefaq-8AqT\n",
      "This is your password №7!: 3F=_m!p&yekX65eG\n",
      "This is your password №8!: x6Nmzn%_.3Ka6%47\n",
      "This is your password №9!: uXx6RHVz6^nq6jGe\n",
      "This is your password №10!: agwEThfSc.xtQ?7P\n"
     ]
    }
   ],
   "source": [
    "# Password generator\n",
    "\n",
    "# Preparing\n",
    "\n",
    "import random\n",
    "digits = '0123456789'\n",
    "lowercase_letters = 'abcdefghijklmnopqrstuvwxyz'\n",
    "uppercase_letters = 'ABCDEFGHIJKLMNOPQRSTUVWXYZ'\n",
    "punctuation = '!#$%&*+-=?@^_.'\n",
    "rem_item = 'il1Lo0O'\n",
    "chars = ''\n",
    "\n",
    "# User input\n",
    "\n",
    "count_passwords = int(input('Enter the number of passwords to generate: '))\n",
    "length = int(input('Enter the length for the password: '))\n",
    "include_digits = input(f'Include digits {digits}? (y = yes, n = no):')\n",
    "include_upper = input(f'Include uppercase letters {uppercase_letters}? (y = yes, n = no): ')\n",
    "include_lower = input(f'Include lowercase letters {lowercase_letters}? (y = yes, n = no): ')\n",
    "include_symb = input(f'Include symbols {punctuation}? (y = yes, n = no): ')\n",
    "include_removing = input(f'Exclude ambiguous characters {rem_item}? (y = yes, n = no): ')\n",
    "\n",
    "# Configuring generated passwords\n",
    "\n",
    "if include_digits.lower() == 'y':\n",
    "    chars += digits\n",
    "if include_upper.lower() == 'y':\n",
    "    chars += uppercase_letters\n",
    "if include_lower.lower() == 'y':\n",
    "    chars += lowercase_letters\n",
    "if include_symb.lower() == 'y':\n",
    "    chars += punctuation\n",
    "if include_removing.lower() == 'y':\n",
    "    for i in rem_item:\n",
    "        chars = chars.replace(i, '')\n",
    "\n",
    "# Password generation\n",
    "\n",
    "def generate_password(length, chars):\n",
    "    password = ''\n",
    "    for i in range(length):\n",
    "        password += random.choice(chars)\n",
    "    return password\n",
    "\n",
    "for l in range(count_passwords):\n",
    "    print(f'This is your password №{l+1}!: {generate_password(length, chars)}')"
   ]
  }
 ],
 "metadata": {
  "kernelspec": {
   "display_name": "Python 3 (ipykernel)",
   "language": "python",
   "name": "python3"
  },
  "language_info": {
   "codemirror_mode": {
    "name": "ipython",
    "version": 3
   },
   "file_extension": ".py",
   "mimetype": "text/x-python",
   "name": "python",
   "nbconvert_exporter": "python",
   "pygments_lexer": "ipython3",
   "version": "3.11.5"
  }
 },
 "nbformat": 4,
 "nbformat_minor": 5
}
